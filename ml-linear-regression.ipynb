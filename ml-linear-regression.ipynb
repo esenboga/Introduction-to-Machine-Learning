{
 "cells": [
  {
   "cell_type": "code",
   "execution_count": 1,
   "id": "79fccf73",
   "metadata": {
    "execution": {
     "iopub.execute_input": "2023-08-08T12:48:22.533857Z",
     "iopub.status.busy": "2023-08-08T12:48:22.533298Z",
     "iopub.status.idle": "2023-08-08T12:48:22.550141Z",
     "shell.execute_reply": "2023-08-08T12:48:22.548917Z"
    },
    "papermill": {
     "duration": 0.02711,
     "end_time": "2023-08-08T12:48:22.552798",
     "exception": false,
     "start_time": "2023-08-08T12:48:22.525688",
     "status": "completed"
    },
    "tags": []
   },
   "outputs": [],
   "source": [
    "import pandas as pd\n",
    "import matplotlib.pyplot as plt"
   ]
  },
  {
   "cell_type": "code",
   "execution_count": 2,
   "id": "452f9437",
   "metadata": {
    "execution": {
     "iopub.execute_input": "2023-08-08T12:48:22.565037Z",
     "iopub.status.busy": "2023-08-08T12:48:22.564658Z",
     "iopub.status.idle": "2023-08-08T12:48:22.586399Z",
     "shell.execute_reply": "2023-08-08T12:48:22.585200Z"
    },
    "papermill": {
     "duration": 0.030954,
     "end_time": "2023-08-08T12:48:22.588960",
     "exception": false,
     "start_time": "2023-08-08T12:48:22.558006",
     "status": "completed"
    },
    "tags": []
   },
   "outputs": [],
   "source": [
    "df = pd.read_csv(\"/kaggle/input/linear-regression/linear-regression-dataset.csv\",sep = \";\")"
   ]
  },
  {
   "cell_type": "code",
   "execution_count": 3,
   "id": "6ada563a",
   "metadata": {
    "execution": {
     "iopub.execute_input": "2023-08-08T12:48:22.601234Z",
     "iopub.status.busy": "2023-08-08T12:48:22.600795Z",
     "iopub.status.idle": "2023-08-08T12:48:22.960450Z",
     "shell.execute_reply": "2023-08-08T12:48:22.959197Z"
    },
    "papermill": {
     "duration": 0.369517,
     "end_time": "2023-08-08T12:48:22.963696",
     "exception": false,
     "start_time": "2023-08-08T12:48:22.594179",
     "status": "completed"
    },
    "tags": []
   },
   "outputs": [
    {
     "data": {
      "image/png": "[encoded data removed]",
      "text/plain": [
       "<Figure size 640x480 with 1 Axes>"
      ]
     },
     "metadata": {},
     "output_type": "display_data"
    }
   ],
   "source": [
    "plt.scatter(df.experience,df.salary)\n",
    "plt.xlabel(\"experience\")\n",
    "plt.ylabel(\"salary\")\n",
    "plt.show()"
   ]
  },
  {
   "cell_type": "code",
   "execution_count": 4,
   "id": "6eaa833a",
   "metadata": {
    "execution": {
     "iopub.execute_input": "2023-08-08T12:48:22.976753Z",
     "iopub.status.busy": "2023-08-08T12:48:22.976241Z",
     "iopub.status.idle": "2023-08-08T12:48:24.328513Z",
     "shell.execute_reply": "2023-08-08T12:48:24.326767Z"
    },
    "papermill": {
     "duration": 1.361818,
     "end_time": "2023-08-08T12:48:24.331221",
     "exception": false,
     "start_time": "2023-08-08T12:48:22.969403",
     "status": "completed"
    },
    "tags": []
   },
   "outputs": [
    {
     "name": "stderr",
     "output_type": "stream",
     "text": [
      "/opt/conda/lib/python3.10/site-packages/scipy/__init__.py:146: UserWarning: A NumPy version >=1.16.5 and <1.23.0 is required for this version of SciPy (detected version 1.23.5\n",
      "  warnings.warn(f\"A NumPy version >={np_minversion} and <{np_maxversion}\"\n"
     ]
    },
    {
     "data": {
      "text/html": [
       "<style>#sk-container-id-1 {color: black;background-color: white;}#sk-container-id-1 pre{padding: 0;}#sk-container-id-1 div.sk-toggleable {background-color: white;}#sk-container-id-1 label.sk-toggleable__label {cursor: pointer;display: block;width: 100%;margin-bottom: 0;padding: 0.3em;box-sizing: border-box;text-align: center;}#sk-container-id-1 label.sk-toggleable__label-arrow:before {content: \"▸\";float: left;margin-right: 0.25em;color: #696969;}#sk-container-id-1 label.sk-toggleable__label-arrow:hover:before {color: black;}#sk-container-id-1 div.sk-estimator:hover label.sk-toggleable__label-arrow:before {color: black;}#sk-container-id-1 div.sk-toggleable__content {max-height: 0;max-width: 0;overflow: hidden;text-align: left;background-color: #f0f8ff;}#sk-container-id-1 div.sk-toggleable__content pre {margin: 0.2em;color: black;border-radius: 0.25em;background-color: #f0f8ff;}#sk-container-id-1 input.sk-toggleable__control:checked~div.sk-toggleable__content {max-height: 200px;max-width: 100%;overflow: auto;}#sk-container-id-1 input.sk-toggleable__control:checked~label.sk-toggleable__label-arrow:before {content: \"▾\";}#sk-container-id-1 div.sk-estimator input.sk-toggleable__control:checked~label.sk-toggleable__label {background-color: #d4ebff;}#sk-container-id-1 div.sk-label input.sk-toggleable__control:checked~label.sk-toggleable__label {background-color: #d4ebff;}#sk-container-id-1 input.sk-hidden--visually {border: 0;clip: rect(1px 1px 1px 1px);clip: rect(1px, 1px, 1px, 1px);height: 1px;margin: -1px;overflow: hidden;padding: 0;position: absolute;width: 1px;}#sk-container-id-1 div.sk-estimator {font-family: monospace;background-color: #f0f8ff;border: 1px dotted black;border-radius: 0.25em;box-sizing: border-box;margin-bottom: 0.5em;}#sk-container-id-1 div.sk-estimator:hover {background-color: #d4ebff;}#sk-container-id-1 div.sk-parallel-item::after {content: \"\";width: 100%;border-bottom: 1px solid gray;flex-grow: 1;}#sk-container-id-1 div.sk-label:hover label.sk-toggleable__label {background-color: #d4ebff;}#sk-container-id-1 div.sk-serial::before {content: \"\";position: absolute;border-left: 1px solid gray;box-sizing: border-box;top: 0;bottom: 0;left: 50%;z-index: 0;}#sk-container-id-1 div.sk-serial {display: flex;flex-direction: column;align-items: center;background-color: white;padding-right: 0.2em;padding-left: 0.2em;position: relative;}#sk-container-id-1 div.sk-item {position: relative;z-index: 1;}#sk-container-id-1 div.sk-parallel {display: flex;align-items: stretch;justify-content: center;background-color: white;position: relative;}#sk-container-id-1 div.sk-item::before, #sk-container-id-1 div.sk-parallel-item::before {content: \"\";position: absolute;border-left: 1px solid gray;box-sizing: border-box;top: 0;bottom: 0;left: 50%;z-index: -1;}#sk-container-id-1 div.sk-parallel-item {display: flex;flex-direction: column;z-index: 1;position: relative;background-color: white;}#sk-container-id-1 div.sk-parallel-item:first-child::after {align-self: flex-end;width: 50%;}#sk-container-id-1 div.sk-parallel-item:last-child::after {align-self: flex-start;width: 50%;}#sk-container-id-1 div.sk-parallel-item:only-child::after {width: 0;}#sk-container-id-1 div.sk-dashed-wrapped {border: 1px dashed gray;margin: 0 0.4em 0.5em 0.4em;box-sizing: border-box;padding-bottom: 0.4em;background-color: white;}#sk-container-id-1 div.sk-label label {font-family: monospace;font-weight: bold;display: inline-block;line-height: 1.2em;}#sk-container-id-1 div.sk-label-container {text-align: center;}#sk-container-id-1 div.sk-container {/* jupyter's `normalize.less` sets `[hidden] { display: none; }` but bootstrap.min.css set `[hidden] { display: none !important; }` so we also need the `!important` here to be able to override the default hidden behavior on the sphinx rendered scikit-learn.org. See: https://github.com/scikit-learn/scikit-learn/issues/21755 */display: inline-block !important;position: relative;}#sk-container-id-1 div.sk-text-repr-fallback {display: none;}</style><div id=\"sk-container-id-1\" class=\"sk-top-container\"><div class=\"sk-text-repr-fallback\"><pre>LinearRegression()</pre><b>In a Jupyter environment, please rerun this cell to show the HTML representation or trust the notebook. <br />On GitHub, the HTML representation is unable to render, please try loading this page with nbviewer.org.</b></div><div class=\"sk-container\" hidden><div class=\"sk-item\"><div class=\"sk-estimator sk-toggleable\"><input class=\"sk-toggleable__control sk-hidden--visually\" id=\"sk-estimator-id-1\" type=\"checkbox\" checked><label for=\"sk-estimator-id-1\" class=\"sk-toggleable__label sk-toggleable__label-arrow\">LinearRegression</label><div class=\"sk-toggleable__content\"><pre>LinearRegression()</pre></div></div></div></div></div>"
      ],
      "text/plain": [
       "LinearRegression()"
      ]
     },
     "execution_count": 4,
     "metadata": {},
     "output_type": "execute_result"
    }
   ],
   "source": [
    "#%% linear regression\n",
    "# sklearn library\n",
    "\n",
    "from sklearn.linear_model import LinearRegression\n",
    "\n",
    "# linear regression model\n",
    "linear_reg = LinearRegression()\n",
    "\n",
    "x = df.experience.values.reshape(14,1)\n",
    "y = df.salary.values.reshape(14,1)\n",
    "\n",
    "linear_reg.fit(x,y)\n"
   ]
  },
  {
   "cell_type": "code",
   "execution_count": 5,
   "id": "50a3ead1",
   "metadata": {
    "execution": {
     "iopub.execute_input": "2023-08-08T12:48:24.348508Z",
     "iopub.status.busy": "2023-08-08T12:48:24.346836Z",
     "iopub.status.idle": "2023-08-08T12:48:24.355079Z",
     "shell.execute_reply": "2023-08-08T12:48:24.354191Z"
    },
    "papermill": {
     "duration": 0.019818,
     "end_time": "2023-08-08T12:48:24.357572",
     "exception": false,
     "start_time": "2023-08-08T12:48:24.337754",
     "status": "completed"
    },
    "tags": []
   },
   "outputs": [
    {
     "name": "stdout",
     "output_type": "stream",
     "text": [
      "b0:  [[1663.89519747]]\n"
     ]
    }
   ],
   "source": [
    "#%% prediction\n",
    "import numpy as np\n",
    "\n",
    "b0 = linear_reg.predict([[0]])\n",
    "print(\"b0: \",b0)\n",
    "\n",
    "\n"
   ]
  },
  {
   "cell_type": "code",
   "execution_count": 6,
   "id": "f692ec8d",
   "metadata": {
    "execution": {
     "iopub.execute_input": "2023-08-08T12:48:24.373760Z",
     "iopub.status.busy": "2023-08-08T12:48:24.373265Z",
     "iopub.status.idle": "2023-08-08T12:48:24.380387Z",
     "shell.execute_reply": "2023-08-08T12:48:24.378895Z"
    },
    "papermill": {
     "duration": 0.018791,
     "end_time": "2023-08-08T12:48:24.383057",
     "exception": false,
     "start_time": "2023-08-08T12:48:24.364266",
     "status": "completed"
    },
    "tags": []
   },
   "outputs": [
    {
     "name": "stdout",
     "output_type": "stream",
     "text": [
      "b0_:  [1663.89519747]\n"
     ]
    }
   ],
   "source": [
    "b0_ = linear_reg.intercept_\n",
    "print(\"b0_: \",b0_)   # intercept the y-axis\n",
    "\n"
   ]
  },
  {
   "cell_type": "code",
   "execution_count": 7,
   "id": "70c4abd9",
   "metadata": {
    "execution": {
     "iopub.execute_input": "2023-08-08T12:48:24.397686Z",
     "iopub.status.busy": "2023-08-08T12:48:24.397291Z",
     "iopub.status.idle": "2023-08-08T12:48:24.406167Z",
     "shell.execute_reply": "2023-08-08T12:48:24.404513Z"
    },
    "papermill": {
     "duration": 0.019928,
     "end_time": "2023-08-08T12:48:24.409824",
     "exception": false,
     "start_time": "2023-08-08T12:48:24.389896",
     "status": "completed"
    },
    "tags": []
   },
   "outputs": [
    {
     "name": "stdout",
     "output_type": "stream",
     "text": [
      "b1:  [[1138.34819698]]\n"
     ]
    }
   ],
   "source": [
    "b1 = linear_reg.coef_\n",
    "print(\"b1: \",b1)   # slope\n",
    "\n",
    "# salary = 1663 + 1138*experience \n",
    "\n"
   ]
  },
  {
   "cell_type": "code",
   "execution_count": 8,
   "id": "7a884789",
   "metadata": {
    "execution": {
     "iopub.execute_input": "2023-08-08T12:48:24.424398Z",
     "iopub.status.busy": "2023-08-08T12:48:24.423441Z",
     "iopub.status.idle": "2023-08-08T12:48:24.431002Z",
     "shell.execute_reply": "2023-08-08T12:48:24.429609Z"
    },
    "papermill": {
     "duration": 0.018007,
     "end_time": "2023-08-08T12:48:24.434074",
     "exception": false,
     "start_time": "2023-08-08T12:48:24.416067",
     "status": "completed"
    },
    "tags": []
   },
   "outputs": [
    {
     "name": "stdout",
     "output_type": "stream",
     "text": [
      "14181\n"
     ]
    }
   ],
   "source": [
    "new_salary = 1663 + 1138*11\n",
    "print(new_salary)\n",
    "\n"
   ]
  },
  {
   "cell_type": "code",
   "execution_count": 9,
   "id": "f236f9b9",
   "metadata": {
    "execution": {
     "iopub.execute_input": "2023-08-08T12:48:24.448752Z",
     "iopub.status.busy": "2023-08-08T12:48:24.448359Z",
     "iopub.status.idle": "2023-08-08T12:48:24.454810Z",
     "shell.execute_reply": "2023-08-08T12:48:24.453634Z"
    },
    "papermill": {
     "duration": 0.017378,
     "end_time": "2023-08-08T12:48:24.457670",
     "exception": false,
     "start_time": "2023-08-08T12:48:24.440292",
     "status": "completed"
    },
    "tags": []
   },
   "outputs": [
    {
     "name": "stdout",
     "output_type": "stream",
     "text": [
      "b11:  [[14185.72536421]]\n"
     ]
    }
   ],
   "source": [
    "b11 = linear_reg.predict([[11]])\n",
    "print(\"b11: \",b11)\n",
    "\n",
    "\n"
   ]
  },
  {
   "cell_type": "code",
   "execution_count": 10,
   "id": "301fcc02",
   "metadata": {
    "execution": {
     "iopub.execute_input": "2023-08-08T12:48:24.473543Z",
     "iopub.status.busy": "2023-08-08T12:48:24.473151Z",
     "iopub.status.idle": "2023-08-08T12:48:24.789332Z",
     "shell.execute_reply": "2023-08-08T12:48:24.788330Z"
    },
    "papermill": {
     "duration": 0.327393,
     "end_time": "2023-08-08T12:48:24.791934",
     "exception": false,
     "start_time": "2023-08-08T12:48:24.464541",
     "status": "completed"
    },
    "tags": []
   },
   "outputs": [
    {
     "data": {
      "image/png": "[encoded data removed]",
      "text/plain": [
       "<Figure size 640x480 with 1 Axes>"
      ]
     },
     "metadata": {},
     "output_type": "display_data"
    }
   ],
   "source": [
    "# visualize line\n",
    "array = np.array([0,1,2,3,4,5,6,7,8,9,10,11,12,13,14,15]).reshape(-1,1)  # experience\n",
    "\n",
    "\n",
    "plt.scatter(x,y)\n",
    "plt.show()\n",
    "\n",
    "\n"
   ]
  },
  {
   "cell_type": "code",
   "execution_count": 11,
   "id": "b913befb",
   "metadata": {
    "execution": {
     "iopub.execute_input": "2023-08-08T12:48:24.808638Z",
     "iopub.status.busy": "2023-08-08T12:48:24.808217Z",
     "iopub.status.idle": "2023-08-08T12:48:25.136195Z",
     "shell.execute_reply": "2023-08-08T12:48:25.134920Z"
    },
    "papermill": {
     "duration": 0.34033,
     "end_time": "2023-08-08T12:48:25.139157",
     "exception": false,
     "start_time": "2023-08-08T12:48:24.798827",
     "status": "completed"
    },
    "tags": []
   },
   "outputs": [
    {
     "data": {
      "text/plain": [
       "[<matplotlib.lines.Line2D at 0x7d17d827ab90>]"
      ]
     },
     "execution_count": 11,
     "metadata": {},
     "output_type": "execute_result"
    },
    {
     "data": {
      "image/png": "[encoded data removed]",
      "text/plain": [
       "<Figure size 640x480 with 1 Axes>"
      ]
     },
     "metadata": {},
     "output_type": "display_data"
    }
   ],
   "source": [
    "y_head = linear_reg.predict(array)  # salary\n",
    "\n",
    "plt.plot(array, y_head,color = \"red\")"
   ]
  },
  {
   "cell_type": "code",
   "execution_count": 12,
   "id": "84035c2f",
   "metadata": {
    "execution": {
     "iopub.execute_input": "2023-08-08T12:48:25.159192Z",
     "iopub.status.busy": "2023-08-08T12:48:25.158731Z",
     "iopub.status.idle": "2023-08-08T12:48:25.167732Z",
     "shell.execute_reply": "2023-08-08T12:48:25.166000Z"
    },
    "papermill": {
     "duration": 0.022697,
     "end_time": "2023-08-08T12:48:25.170534",
     "exception": false,
     "start_time": "2023-08-08T12:48:25.147837",
     "status": "completed"
    },
    "tags": []
   },
   "outputs": [
    {
     "name": "stdout",
     "output_type": "stream",
     "text": [
      "b11:  [[115498.71489503]]\n"
     ]
    }
   ],
   "source": [
    "b100 = linear_reg.predict([[100]])\n",
    "print(\"b11: \",b100)\n"
   ]
  }
 ],
 "metadata": {
  "kernelspec": {
   "display_name": "Python 3",
   "language": "python",
   "name": "python3"
  },
  "language_info": {
   "codemirror_mode": {
    "name": "ipython",
    "version": 3
   },
   "file_extension": ".py",
   "mimetype": "text/x-python",
   "name": "python",
   "nbconvert_exporter": "python",
   "pygments_lexer": "ipython3",
   "version": "3.10.12"
  },
  "papermill": {
   "default_parameters": {},
   "duration": 17.287493,
   "end_time": "2023-08-08T12:48:26.302822",
   "environment_variables": {},
   "exception": null,
   "input_path": "__notebook__.ipynb",
   "output_path": "__notebook__.ipynb",
   "parameters": {},
   "start_time": "2023-08-08T12:48:09.015329",
   "version": "2.4.0"
  }
 },
 "nbformat": 4,
 "nbformat_minor": 5
}
