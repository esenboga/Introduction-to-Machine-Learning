{
 "cells": [
  {
   "cell_type": "code",
   "execution_count": 1,
   "id": "6ba6649b",
   "metadata": {
    "execution": {
     "iopub.execute_input": "2023-08-08T12:53:06.884104Z",
     "iopub.status.busy": "2023-08-08T12:53:06.883680Z",
     "iopub.status.idle": "2023-08-08T12:53:08.327319Z",
     "shell.execute_reply": "2023-08-08T12:53:08.326151Z"
    },
    "papermill": {
     "duration": 1.452513,
     "end_time": "2023-08-08T12:53:08.330716",
     "exception": false,
     "start_time": "2023-08-08T12:53:06.878203",
     "status": "completed"
    },
    "tags": []
   },
   "outputs": [
    {
     "name": "stderr",
     "output_type": "stream",
     "text": [
      "/opt/conda/lib/python3.10/site-packages/scipy/__init__.py:146: UserWarning: A NumPy version >=1.16.5 and <1.23.0 is required for this version of SciPy (detected version 1.23.5\n",
      "  warnings.warn(f\"A NumPy version >={np_minversion} and <{np_maxversion}\"\n"
     ]
    }
   ],
   "source": [
    "import pandas as pd\n",
    "import numpy as np\n",
    "import matplotlib.pyplot as plt\n",
    "from sklearn.linear_model import LinearRegression"
   ]
  },
  {
   "cell_type": "code",
   "execution_count": 2,
   "id": "fd58b3dc",
   "metadata": {
    "execution": {
     "iopub.execute_input": "2023-08-08T12:53:08.339467Z",
     "iopub.status.busy": "2023-08-08T12:53:08.338238Z",
     "iopub.status.idle": "2023-08-08T12:53:08.376705Z",
     "shell.execute_reply": "2023-08-08T12:53:08.374983Z"
    },
    "papermill": {
     "duration": 0.046469,
     "end_time": "2023-08-08T12:53:08.380357",
     "exception": false,
     "start_time": "2023-08-08T12:53:08.333888",
     "status": "completed"
    },
    "tags": []
   },
   "outputs": [],
   "source": [
    "df = pd.read_csv(\"/kaggle/input/multiplelinearregression/multiple-linear-regression-dataset.csv\",sep = \";\")\n",
    "\n",
    "x = df.iloc[:,[0,2]].values\n",
    "y = df.salary.values.reshape(-1,1)\n",
    "\n"
   ]
  },
  {
   "cell_type": "code",
   "execution_count": 3,
   "id": "235129b6",
   "metadata": {
    "execution": {
     "iopub.execute_input": "2023-08-08T12:53:08.387547Z",
     "iopub.status.busy": "2023-08-08T12:53:08.387093Z",
     "iopub.status.idle": "2023-08-08T12:53:08.414786Z",
     "shell.execute_reply": "2023-08-08T12:53:08.413982Z"
    },
    "papermill": {
     "duration": 0.033802,
     "end_time": "2023-08-08T12:53:08.417121",
     "exception": false,
     "start_time": "2023-08-08T12:53:08.383319",
     "status": "completed"
    },
    "tags": []
   },
   "outputs": [
    {
     "name": "stdout",
     "output_type": "stream",
     "text": [
      "b0:  [10376.62747228]\n",
      "b1,b2:  [[1525.50072054 -416.72218625]]\n"
     ]
    }
   ],
   "source": [
    "# %% fitting data\n",
    "multiple_linear_regression = LinearRegression()\n",
    "multiple_linear_regression.fit(x,y)\n",
    "\n",
    "print(\"b0: \", multiple_linear_regression.intercept_)\n",
    "print(\"b1,b2: \",multiple_linear_regression.coef_)\n",
    "\n"
   ]
  },
  {
   "cell_type": "code",
   "execution_count": 4,
   "id": "be1069a0",
   "metadata": {
    "execution": {
     "iopub.execute_input": "2023-08-08T12:53:08.424240Z",
     "iopub.status.busy": "2023-08-08T12:53:08.423812Z",
     "iopub.status.idle": "2023-08-08T12:53:08.434147Z",
     "shell.execute_reply": "2023-08-08T12:53:08.432894Z"
    },
    "papermill": {
     "duration": 0.016733,
     "end_time": "2023-08-08T12:53:08.436741",
     "exception": false,
     "start_time": "2023-08-08T12:53:08.420008",
     "status": "completed"
    },
    "tags": []
   },
   "outputs": [
    {
     "data": {
      "text/plain": [
       "array([[11046.35815877],\n",
       "       [ 3418.85455609]])"
      ]
     },
     "execution_count": 4,
     "metadata": {},
     "output_type": "execute_result"
    }
   ],
   "source": [
    "# predict\n",
    "multiple_linear_regression.predict(np.array([[10,35],[5,35]]))"
   ]
  }
 ],
 "metadata": {
  "kernelspec": {
   "display_name": "Python 3",
   "language": "python",
   "name": "python3"
  },
  "language_info": {
   "codemirror_mode": {
    "name": "ipython",
    "version": 3
   },
   "file_extension": ".py",
   "mimetype": "text/x-python",
   "name": "python",
   "nbconvert_exporter": "python",
   "pygments_lexer": "ipython3",
   "version": "3.10.12"
  },
  "papermill": {
   "default_parameters": {},
   "duration": 13.767645,
   "end_time": "2023-08-08T12:53:09.363477",
   "environment_variables": {},
   "exception": null,
   "input_path": "__notebook__.ipynb",
   "output_path": "__notebook__.ipynb",
   "parameters": {},
   "start_time": "2023-08-08T12:52:55.595832",
   "version": "2.4.0"
  }
 },
 "nbformat": 4,
 "nbformat_minor": 5
}
